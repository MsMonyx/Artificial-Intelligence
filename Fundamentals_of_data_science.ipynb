{
  "nbformat": 4,
  "nbformat_minor": 0,
  "metadata": {
    "colab": {
      "provenance": []
    },
    "kernelspec": {
      "name": "python3",
      "display_name": "Python 3"
    },
    "language_info": {
      "name": "python"
    }
  },
  "cells": [
    {
      "cell_type": "code",
      "source": [
        "from statistics import variance\n",
        "from fractions import Fraction as fr\n",
        "sample1 = (1, 2, 5, 4, 8, 9, 12)\n",
        "sample2 = (-2, -4, -3, -1, -5, -6)\n",
        "sample3 = (-9, -1, -0, 2, 1, 3, 4, 19)\n",
        "sample4 = (fr(1, 2), fr(2, 3), fr(3, 4),fr(5, 6), fr(7, 8))\n",
        "sample5 = (1.23, 1.45, 2.1, 2.2, 1.9)\n",
        "print(\"Sample1 is % s \" %(variance(sample1)))\n",
        "print(\"Variance of Sample2 is % s \" %(variance(sample2)))\n",
        "print(\"Variance of Sample3 is % s \"%(variance(sample3)))\n",
        "print(\"Variance of Sample4 is % s\" %(variance(sample4)))\n",
        "print(\"Variance of Sample5 is % s \" %(variance(sample5)))"
      ],
      "metadata": {
        "colab": {
          "base_uri": "https://localhost:8080/"
        },
        "id": "K2R4DcZ1jVme",
        "outputId": "401c0630-3069-44fb-c0be-559bbccaf805"
      },
      "execution_count": null,
      "outputs": [
        {
          "output_type": "stream",
          "name": "stdout",
          "text": [
            "Sample1 is 15.80952380952381 \n",
            "Variance of Sample2 is 3.5 \n",
            "Variance of Sample3 is 61.125 \n",
            "Variance of Sample4 is 1/45\n",
            "Variance of Sample5 is 0.17613000000000006 \n"
          ]
        }
      ]
    },
    {
      "cell_type": "code",
      "source": [
        "from scipy.stats import norm\n",
        "import numpy as np\n",
        "import matplotlib.pyplot as plt\n",
        "import seaborn as sb\n",
        "data = np.arange(1,10,0.01)\n",
        "pdf = norm.pdf(data , loc = 5.3 , scale = 1 )\n",
        "sb.set_style('whitegrid')\n",
        "sb.lineplot(data,\n",
        "pdf , color = 'black')\n",
        "plt.xlabel('Heights')\n",
        "plt.ylabel('Probability Density')"
      ],
      "metadata": {
        "colab": {
          "base_uri": "https://localhost:8080/",
          "height": 351
        },
        "id": "SWe-Cz4cj_ge",
        "outputId": "d8792e48-481b-4704-8791-42e64484e6c6"
      },
      "execution_count": null,
      "outputs": [
        {
          "output_type": "stream",
          "name": "stderr",
          "text": [
            "/usr/local/lib/python3.8/dist-packages/seaborn/_decorators.py:36: FutureWarning: Pass the following variables as keyword args: x, y. From version 0.12, the only valid positional argument will be `data`, and passing other arguments without an explicit keyword will result in an error or misinterpretation.\n",
            "  warnings.warn(\n"
          ]
        },
        {
          "output_type": "execute_result",
          "data": {
            "text/plain": [
              "Text(0, 0.5, 'Probability Density')"
            ]
          },
          "metadata": {},
          "execution_count": 3
        },
        {
          "output_type": "display_data",
          "data": {
            "text/plain": [
              "<Figure size 432x288 with 1 Axes>"
            ],
            "image/png": "[encoded data removed]"
          },
          "metadata": {}
        }
      ]
    },
    {
      "cell_type": "code",
      "source": [
        "import math\n",
        "def correlationCoefficient(X, Y, n):\n",
        "  sum_X = 0\n",
        "  sum_Y = 0\n",
        "  sum_XY = 0\n",
        "  squareSum_X = 0\n",
        "  squareSum_Y = 0\n",
        "  i = 0\n",
        "  while i < n :\n",
        "    sum_X = sum_X + X[i]\n",
        "    sum_Y = sum_Y + Y[i]\n",
        "    sum_XY = sum_XY + X[i] * Y[i]\n",
        "    squareSum_X = squareSum_X + X[i] * X[i]\n",
        "    squareSum_Y = squareSum_Y + Y[i] * Y[i]\n",
        "    i = i + 1\n",
        "    corr = (float)(n * sum_XY - sum_X * sum_Y)/(float)(math.sqrt((n * squareSum_X -sum_X * sum_X)* (n * squareSum_Y -sum_Y * sum_Y)))\n",
        "    return corr\n",
        "X = [15, 18, 21, 24, 27]\n",
        "Y = [25, 25, 27, 31, 32]\n",
        "n = len(X)\n",
        "print ('{0:.6f}'.format(correlationCoefficient(X, Y, n)))"
      ],
      "metadata": {
        "colab": {
          "base_uri": "https://localhost:8080/"
        },
        "id": "ousmY8XJtDHn",
        "outputId": "d017f715-e39a-4760-d660-cb33a614821a"
      },
      "execution_count": null,
      "outputs": [
        {
          "output_type": "stream",
          "name": "stdout",
          "text": [
            "1.000000\n"
          ]
        }
      ]
    },
    {
      "cell_type": "code",
      "source": [
        "import numpy as np\n",
        "import matplotlib.pyplot as plt\n",
        "def estimate_coef(x, y):\n",
        "  n = np.size(x)\n",
        "  m_x = np.mean(x)\n",
        "  m_y = np.mean(y)\n",
        "  SS_xy = np.sum(y*x) - n*m_y*m_x\n",
        "  SS_xx = np.sum(x*x) - n*m_x*m_x\n",
        "  b_1 = SS_xy / SS_xx\n",
        "  b_0 = m_y - b_1*m_x\n",
        "  return (b_0, b_1)\n",
        "\n",
        "def plot_regression_line(x, y, b):\n",
        "  plt.scatter(x, y, color = \"m\",marker = \"o\", s = 30)\n",
        "  y_pred = b[0] + b[1]*x\n",
        "  plt.plot(x, y_pred, color = \"g\")\n",
        "  plt.xlabel('x')\n",
        "  plt.ylabel('y')\n",
        "  plt.show()\n",
        "def main():\n",
        "  x = np.array([0, 1, 2, 3, 4, 5, 6, 7, 8, 9])\n",
        "  y = np.array([1, 3, 2, 5, 7, 8, 8, 9, 10, 12])\n",
        "  b = estimate_coef(x, y)\n",
        "  print(\"Estimated coefficients:\\nb_0 = {} \\\\nb_1 = {}\".format(b[0], b[1]))\n",
        "  plot_regression_line(x, y, b)\n",
        "if __name__ == \"__main__\":\n",
        "  main()"
      ],
      "metadata": {
        "colab": {
          "base_uri": "https://localhost:8080/",
          "height": 314
        },
        "id": "rry7oFQ_vRf4",
        "outputId": "ec9fe795-7459-4c8e-e023-ee167b6f97ea"
      },
      "execution_count": null,
      "outputs": [
        {
          "output_type": "stream",
          "name": "stdout",
          "text": [
            "Estimated coefficients:\n",
            "b_0 = 1.2363636363636363 \\nb_1 = 1.1696969696969697\n"
          ]
        },
        {
          "output_type": "display_data",
          "data": {
            "text/plain": [
              "<Figure size 432x288 with 1 Axes>"
            ],
            "image/png": "[encoded data removed]"
          },
          "metadata": {
            "needs_background": "light"
          }
        }
      ]
    }
  ]
}