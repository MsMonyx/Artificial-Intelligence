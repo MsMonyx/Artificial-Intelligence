{
  "nbformat": 4,
  "nbformat_minor": 0,
  "metadata": {
    "colab": {
      "provenance": []
    },
    "kernelspec": {
      "name": "python3",
      "display_name": "Python 3"
    },
    "language_info": {
      "name": "python"
    }
  },
  "cells": [
    {
      "cell_type": "code",
      "execution_count": null,
      "metadata": {
        "colab": {
          "base_uri": "https://localhost:8080/"
        },
        "id": "Q5sGjxY5-rku",
        "outputId": "45435eb3-9aee-46ad-d4d0-b470ed67d1a0"
      },
      "outputs": [
        {
          "output_type": "stream",
          "name": "stdout",
          "text": [
            "mean=110.28 stdv=2.31\n",
            "Reject Null Hypothesis\n"
          ]
        }
      ],
      "source": [
        "import math\n",
        "import numpy as np\n",
        "from numpy.random import randn\n",
        "from statsmodels.stats.weightstats import ztest\n",
        "mean_iq = 110\n",
        "sd_iq = 15/math.sqrt(50)\n",
        "alpha =0.05\n",
        "null_mean =100\n",
        "data = sd_iq*randn(50)+mean_iq\n",
        "print('mean=%.2f stdv=%.2f' % (np.mean(data), np.std(data)))\n",
        "ztest_Score, p_value= ztest(data,value = null_mean, alternative='larger')\n",
        "if(p_value < alpha):\n",
        "  print(\"Reject Null Hypothesis\")\n",
        "else:\n",
        "  print(\"Fail to Reject NUll Hypothesis\")\n"
      ]
    },
    {
      "cell_type": "code",
      "source": [
        "import scipy.stats as stats\n",
        "data_group1 = np.array([14, 15, 15, 16, 13, 8, 14,\n",
        "\t\t\t\t\t\t17, 16, 14, 19, 20, 21, 15,\n",
        "\t\t\t\t\t\t15, 16, 16, 13, 14, 12])\n",
        "data_group2 = np.array([15, 17, 14, 17, 14, 8, 12,\n",
        "\t\t\t\t\t\t19, 19, 14, 17, 22, 24, 16,\n",
        "\t\t\t\t\t\t13, 16, 13, 18, 15, 13])\n",
        "print(np.var(data_group1), np.var(data_group2))\n"
      ],
      "metadata": {
        "colab": {
          "base_uri": "https://localhost:8080/"
        },
        "id": "9evfCppy_AS0",
        "outputId": "286712be-22f2-4327-e5e7-0d23a9deca49"
      },
      "execution_count": null,
      "outputs": [
        {
          "output_type": "stream",
          "name": "stdout",
          "text": [
            "7.727500000000001 12.260000000000002\n"
          ]
        }
      ]
    },
    {
      "cell_type": "code",
      "source": [
        "import scipy.stats as stats\n",
        "data_group1 = np.array([14, 15, 15, 16, 13, 8, 14,\n",
        "\t\t\t\t\t\t17, 16, 14, 19, 20, 21, 15,\n",
        "\t\t\t\t\t\t15, 16, 16, 13, 14, 12])\n",
        "\n",
        "data_group2 = np.array([15, 17, 14, 17, 14, 8, 12,\n",
        "\t\t\t\t\t\t19, 19, 14, 17, 22, 24, 16,\n",
        "\t\t\t\t\t\t13, 16, 13, 18, 15, 13])\n",
        "stats.ttest_ind(a=data_group1, b=data_group2, equal_var=True)\n"
      ],
      "metadata": {
        "colab": {
          "base_uri": "https://localhost:8080/"
        },
        "id": "XvbQ7mGj_XEs",
        "outputId": "1f392deb-c97b-458e-b324-2af1a1c2ef2e"
      },
      "execution_count": null,
      "outputs": [
        {
          "output_type": "execute_result",
          "data": {
            "text/plain": [
              "Ttest_indResult(statistic=-0.6337397070250238, pvalue=0.5300471010405257)"
            ]
          },
          "metadata": {},
          "execution_count": 4
        }
      ]
    },
    {
      "cell_type": "code",
      "source": [
        "performance1 = [89, 89, 88, 78, 79]\n",
        "performance2 = [93, 92, 94, 89, 88]\n",
        "performance3 = [89, 88, 89, 93, 90]\n",
        "performance4 = [81, 78, 81, 92, 82]\n",
        "from scipy.stats import f_oneway\n",
        "performance1 = [89, 89, 88, 78, 79]\n",
        "performance2 = [93, 92, 94, 89, 88]\n",
        "performance3 = [89, 88, 89, 93, 90]\n",
        "performance4 = [81, 78, 81, 92, 82]\n",
        "f_oneway(performance1, performance2, performance3, performance4)\n",
        "\n"
      ],
      "metadata": {
        "colab": {
          "base_uri": "https://localhost:8080/"
        },
        "id": "tEYefOtV_mof",
        "outputId": "8a6fc0af-6c6a-4691-e902-31388463c5e1"
      },
      "execution_count": null,
      "outputs": [
        {
          "output_type": "execute_result",
          "data": {
            "text/plain": [
              "F_onewayResult(statistic=4.625000000000002, pvalue=0.016336459839780215)"
            ]
          },
          "metadata": {},
          "execution_count": 5
        }
      ]
    },
    {
      "cell_type": "code",
      "source": [
        "import statsmodels.api as sm\n",
        "from statsmodels.formula.api import ols\n",
        "import pandas as pd\n",
        "import numpy as np\n",
        "dataframe = pd.DataFrame({'Fertilizer': np.repeat(['daily', 'weekly'], 15),\n",
        "\t\t\t\t\t\t'Watering': np.repeat(['daily', 'weekly'], 15),\n",
        "\t\t\t\t\t\t'height': [14, 16, 15, 15, 16, 13, 12, 11,\n",
        "\t\t\t\t\t\t\t\t\t14, 15, 16, 16, 17, 18, 14, 13,\n",
        "\t\t\t\t\t\t\t\t\t14, 14, 14, 15, 16, 16, 17, 18,\n",
        "\t\t\t\t\t\t\t\t\t14, 13, 14, 14, 14, 15]})\n",
        "model = ols('height ~ C(Fertilizer) + C(Watering) +\\\n",
        "C(Fertilizer):C(Watering)',\n",
        "\t\t\tdata=dataframe).fit()\n",
        "result = sm.stats.anova_lm(model, type=2)\n",
        "print(result)\n",
        "\n"
      ],
      "metadata": {
        "colab": {
          "base_uri": "https://localhost:8080/"
        },
        "id": "x__3E10ht4tL",
        "outputId": "1cd73562-ec8d-4d3b-be46-8dba18df3e75"
      },
      "execution_count": null,
      "outputs": [
        {
          "output_type": "stream",
          "name": "stdout",
          "text": [
            "                             df     sum_sq   mean_sq         F    PR(>F)\n",
            "C(Fertilizer)               1.0   0.033333  0.033333  0.012069  0.913305\n",
            "C(Watering)                 1.0   0.000369  0.000369  0.000133  0.990865\n",
            "C(Fertilizer):C(Watering)   1.0   0.040866  0.040866  0.014796  0.904053\n",
            "Residual                   28.0  77.333333  2.761905       NaN       NaN\n"
          ]
        }
      ]
    }
  ]
}