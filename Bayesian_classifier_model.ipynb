{
  "nbformat": 4,
  "nbformat_minor": 0,
  "metadata": {
    "colab": {
      "provenance": []
    },
    "kernelspec": {
      "name": "python3",
      "display_name": "Python 3"
    },
    "language_info": {
      "name": "python"
    }
  },
  "cells": [
    {
      "cell_type": "code",
      "source": [
        "t = df.keys()[-1]\n",
        "print('Target Attribute is: ', t)"
      ],
      "metadata": {
        "colab": {
          "base_uri": "https://localhost:8080/"
        },
        "id": "nMWuozauWZiP",
        "outputId": "98401055-0eef-43b3-d8b7-1299ce62f371"
      },
      "execution_count": null,
      "outputs": [
        {
          "output_type": "stream",
          "name": "stdout",
          "text": [
            "Target Attribute is:  play\n"
          ]
        }
      ]
    },
    {
      "cell_type": "code",
      "source": [
        "attribute_names = list(df.keys())"
      ],
      "metadata": {
        "id": "wrGR5mvNWfig"
      },
      "execution_count": null,
      "outputs": []
    },
    {
      "cell_type": "code",
      "source": [
        "attribute_names.remove(t)\n",
        "print('Predicting Attributes: ', attribute_names)"
      ],
      "metadata": {
        "colab": {
          "base_uri": "https://localhost:8080/"
        },
        "id": "h2pzNWTXWhHY",
        "outputId": "4b78c0b9-530f-47b2-a84c-ce7b3a2920e0"
      },
      "execution_count": null,
      "outputs": [
        {
          "output_type": "stream",
          "name": "stdout",
          "text": [
            "Predicting Attributes:  ['outlook', 'temp', 'humidity', 'windy']\n"
          ]
        }
      ]
    },
    {
      "cell_type": "code",
      "source": [
        "def classify(instance, tree,default=None):\n",
        "    attribute = next(iter(tree))\n",
        "    if instance[attribute] in tree[attribute].keys():\n",
        "        result = tree[attribute][instance[attribute]]\n",
        "        if isinstance(result, dict):\n",
        "            return classify(instance, result)\n",
        "        else:\n",
        "            return result\n",
        "    else:\n",
        "        return default\n",
        "df_new=pd.read_csv('/content/PlayTennis.csv')\n",
        "df_new['predicted'] = df_new.apply(classify, axis=1, args=(tree,'?'))\n",
        "print(df_new)"
      ],
      "metadata": {
        "colab": {
          "base_uri": "https://localhost:8080/"
        },
        "id": "Kge_FYuMYj0B",
        "outputId": "11c09d94-5092-489a-83b9-a8ca17a63fc0"
      },
      "execution_count": null,
      "outputs": [
        {
          "output_type": "stream",
          "name": "stdout",
          "text": [
            "     outlook  temp humidity  windy play predicted\n",
            "0      sunny   hot     high  False   no        no\n",
            "1      sunny   hot     high   True   no        no\n",
            "2   overcast   hot     high  False  yes       yes\n",
            "3      rainy  mild     high  False  yes       yes\n",
            "4      rainy  cool   normal  False  yes       yes\n",
            "5      rainy  cool   normal   True   no        no\n",
            "6   overcast  cool   normal   True  yes       yes\n",
            "7      sunny  mild     high  False   no        no\n",
            "8      sunny  cool   normal  False  yes       yes\n",
            "9      rainy  mild   normal  False  yes       yes\n",
            "10     sunny  mild   normal   True  yes       yes\n",
            "11  overcast  mild     high   True  yes       yes\n",
            "12  overcast   hot   normal  False  yes       yes\n",
            "13     rainy  mild     high   True   no        no\n"
          ]
        }
      ]
    },
    {
      "cell_type": "code",
      "source": [
        "#back propogation\n",
        "import numpy as np\n",
        "X = np.array(([2, 9], [1, 5], [3, 6]), dtype=float)\n",
        "y = np.array(([92], [86], [89]), dtype=float)\n",
        "X = X/np.amax(X,axis=0)\n",
        "y = y/100\n",
        "\n",
        "def sigmoid (x):\n",
        "  return 1/(1 + np.exp(-x))\n",
        "\n",
        "def derivatives_sigmoid(x):\n",
        "  return x * (1 - x)\n",
        "\n",
        "epoch=5000\n",
        "lr=0.1\n",
        "inputlayer_neurons = 2\n",
        "hiddenlayer_neurons = 3\n",
        "output_neurons = 1\n",
        "wh=np.random.uniform(size=(inputlayer_neurons,hiddenlayer_neurons))\n",
        "bh=np.random.uniform(size=(1,hiddenlayer_neurons))\n",
        "wout=np.random.uniform(size=(hiddenlayer_neurons,output_neurons))\n",
        "bout=np.random.uniform(size=(1,output_neurons))\n",
        "\n",
        "for i in range(epoch):\n",
        "  hinp1=np.dot(X,wh)\n",
        "  hinp=hinp1 + bh\n",
        "  hlayer_act = sigmoid(hinp)\n",
        "  outinp1=np.dot(hlayer_act,wout)\n",
        "  outinp= outinp1+ bout\n",
        "  output = sigmoid(outinp)\n",
        "  EO = y-output\n",
        "  outgrad = derivatives_sigmoid(output)\n",
        "  d_output = EO* outgrad\n",
        "  EH = d_output.dot(wout.T)\n",
        "  hiddengrad = derivatives_sigmoid(hlayer_act)\n",
        "  d_hiddenlayer = EH * hiddengrad\n",
        "  wout += hlayer_act.T.dot(d_output) *lr\n",
        "  wh += X.T.dot(d_hiddenlayer) *lr\n",
        "print(\"Input: \\n\" + str(X))\n",
        "print(\"Actual Output: \\n\" + str(y))\n",
        "print(\"Predicted Output: \\n\" ,output)"
      ],
      "metadata": {
        "colab": {
          "base_uri": "https://localhost:8080/"
        },
        "id": "vwzIZRYGHFhy",
        "outputId": "fedd4a26-8052-48df-bd4c-45ba2e46b375"
      },
      "execution_count": null,
      "outputs": [
        {
          "output_type": "stream",
          "name": "stdout",
          "text": [
            "Input: \n",
            "[[0.66666667 1.        ]\n",
            " [0.33333333 0.55555556]\n",
            " [1.         0.66666667]]\n",
            "Actual Output: \n",
            "[[0.92]\n",
            " [0.86]\n",
            " [0.89]]\n",
            "Predicted Output: \n",
            " [[0.89580107]\n",
            " [0.87865091]\n",
            " [0.89497848]]\n"
          ]
        }
      ]
    },
    {
      "cell_type": "code",
      "source": [
        "import csv\n",
        "import random\n",
        "import math\n",
        "import pandas as pd\n",
        "\n",
        "def loadcsv(filename):\n",
        "  lines = csv.reader(open('/content/naivedata.csv', \"r\"))\n",
        "  dataset = list(lines)\n",
        "  for i in range(len(dataset)):\n",
        "    dataset[i] = [float(x) for x in dataset[i]]\n",
        "  return dataset\n",
        "\n",
        "def splitdataset(dataset, splitratio):\n",
        "  trainsize = int(len(dataset) * splitratio)\n",
        "  trainset = []\n",
        "  copy = list(dataset)\n",
        "  while len(trainset) < trainsize:\n",
        "    index = random.randrange(len(copy));\n",
        "    trainset.append(copy.pop(index))\n",
        "  return [trainset, copy]\n",
        "\n",
        "def separatebyclass(dataset):\n",
        "  separated = {}\n",
        "  for i in range(len(dataset)):\n",
        "    vector = dataset[i]\n",
        "    if (vector[-1] not in separated):\n",
        "      separated[vector[-1]] = []\n",
        "      separated[vector[-1]].append(vector)\n",
        "  return separated\n",
        "\n",
        "def mean(numbers):\n",
        "  return sum(numbers)/float(len(numbers))\n",
        "\n",
        "def stdev(numbers):\n",
        "  avg = mean(numbers)\n",
        "  variance = sum([pow(x-avg, 2) for x in numbers]) / float(len(numbers)+1)\n",
        "  return math.sqrt(variance)\n",
        "\n",
        "def summarize(dataset):\n",
        "  summaries = [(mean(attribute), stdev(attribute)) for attribute in zip(*dataset)];\n",
        "  del summaries[-1]\n",
        "  return summaries\n",
        "\n",
        "def summarizebyclass(dataset):\n",
        "  separated = separatebyclass(dataset)\n",
        "  summaries = {}\n",
        "  for classvalue, instances in separated.items():\n",
        "    summaries[classvalue] = summarize(instances)\n",
        "  return summaries\n",
        "\n",
        "def calculateprobability(x, mean, stdev):\n",
        "  exponent = math.exp(-(math.pow(x-mean,2) / (2*math.pow(stdev-1, 2))))\n",
        "  return (1 / (math.sqrt(2*math.pi) * stdev-1)) * exponent\n",
        "\n",
        "def calculateclassprobabilities(summaries, inputvector):\n",
        "  probabilities = {}\n",
        "  for classvalue, classsummaries in summaries.items():\n",
        "    probabilities[classvalue] = 1\n",
        "    for i in range(len(classsummaries)):\n",
        "      mean, stdev = classsummaries[i]\n",
        "      x = inputvector[i]\n",
        "      probabilities[classvalue] *= calculateprobability(x, mean, stdev)\n",
        "  return probabilities\n",
        "\n",
        "def predict(summaries, inputvector):\n",
        "  probabilities = calculateclassprobabilities(summaries, inputvector)\n",
        "  bestLabel, bestProb = None, -1\n",
        "  for classvalue, probability in probabilities.items():\n",
        "    if bestLabel is None or probability > bestProb:\n",
        "      bestProb = probability\n",
        "      bestLabel = classvalue\n",
        "  return bestLabel\n",
        "\n",
        "def getpredictions(summaries, testset):\n",
        "  predictions = []\n",
        "  for i in range(len(testset)):\n",
        "    result = predict(summaries, testset[i])\n",
        "    predictions.append(result)\n",
        "  return predictions\n",
        "\n",
        "def getaccuracy(testset, predictions):\n",
        "  correct = 0\n",
        "  for i in range(len(testset)):\n",
        "    if testset[i][-1] == predictions[i]:\n",
        "      correct += 1\n",
        "  return (correct/float(len(testset))) * 100.0\n",
        "\n",
        "def main():\n",
        "  filename =  '/content/naivedata.csv'\n",
        "  splitratio = 0.67\n",
        "  dataset = loadcsv(filename)\n",
        "  trainingset, testset = splitdataset(dataset, splitratio)\n",
        "  print('Split {0} rows into train={1} and test={2} rows'.format(len(dataset), len(trainingset), len(testset)))\n",
        "  summaries = summarizebyclass(trainingset)\n",
        "  predictions = getpredictions(summaries, testset)\n",
        "  accuracy = getaccuracy(testset, predictions)\n",
        "  print('Accuracy of the classifier is : {0}%'.format(accuracy))\n",
        "\n",
        "main()"
      ],
      "metadata": {
        "colab": {
          "base_uri": "https://localhost:8080/"
        },
        "id": "JqrCU2XQKFLn",
        "outputId": "b3fa7e70-7f91-43db-c6fd-e8542fac7c51"
      },
      "execution_count": null,
      "outputs": [
        {
          "output_type": "stream",
          "name": "stdout",
          "text": [
            "Split 768 rows into train=514 and test=254 rows\n",
            "Accuracy of the classifier is : 65.35433070866141%\n"
          ]
        }
      ]
    },
    {
      "cell_type": "code",
      "source": [
        "import csv\n",
        "import random\n",
        "import math\n",
        "\n",
        "def loadcsv(filename):\n",
        "\tlines = csv.reader(open(filename, \"r\"));\n",
        "\tdataset = list(lines)\n",
        "\tfor i in range(len(dataset)):\n",
        "\t\tdataset[i] = [float(x) for x in dataset[i]]\n",
        "\treturn dataset\n",
        "\n",
        "def splitdataset(dataset, splitratio):\n",
        "\ttrainsize = int(len(dataset) * splitratio);\n",
        "\ttrainset = []\n",
        "\tcopy = list(dataset);\n",
        "\twhile len(trainset) < trainsize:\n",
        "\t\tindex = random.randrange(len(copy));\n",
        "\t\ttrainset.append(copy.pop(index))\n",
        "\treturn [trainset, copy]\n",
        "\n",
        "def separatebyclass(dataset):\n",
        "\tseparated = {}\n",
        "\tfor i in range(len(dataset)):\n",
        "\t\tvector = dataset[i]\n",
        "\t\tif (vector[-1] not in separated):\n",
        "\t\t\tseparated[vector[-1]] = []\n",
        "\t\tseparated[vector[-1]].append(vector)\n",
        "\treturn separated\n",
        "\n",
        "def mean(numbers):\n",
        "\treturn sum(numbers)/float(len(numbers))\n",
        "\n",
        "def stdev(numbers):\n",
        "\tavg = mean(numbers)\n",
        "\tvariance = sum([pow(x-avg,2) for x in numbers])/float(len(numbers)-1)\n",
        "\treturn math.sqrt(variance)\n",
        "\n",
        "def summarize(dataset):\n",
        "\tsummaries = [(mean(attribute), stdev(attribute)) for attribute in zip(*dataset)];\n",
        "\tdel summaries[-1]\n",
        "\treturn summaries\n",
        "\n",
        "def summarizebyclass(dataset):\n",
        "\tseparated = separatebyclass(dataset);\n",
        "\tsummaries = {}\n",
        "\tfor classvalue, instances in separated.items():\n",
        "\t\tsummaries[classvalue] = summarize(instances)\n",
        "\treturn summaries\n",
        "\n",
        "def calculateprobability(x, mean, stdev):\n",
        "\texponent = math.exp(-(math.pow(x-mean,2)/(2*math.pow(stdev,2))))\n",
        "\treturn (1 / (math.sqrt(2*math.pi) * stdev)) * exponent\n",
        "\n",
        "def calculateclassprobabilities(summaries, inputvector):\n",
        "\tprobabilities = {}\n",
        "\tfor classvalue, classsummaries in summaries.items():\n",
        "\t\tprobabilities[classvalue] = 1\n",
        "\t\tfor i in range(len(classsummaries)):\n",
        "\t\t\tmean, stdev = classsummaries[i]\n",
        "\t\t\tx = inputvector[i]\n",
        "\t\t\tprobabilities[classvalue] *= calculateprobability(x, mean, stdev);\n",
        "\treturn probabilities\n",
        "\n",
        "def predict(summaries, inputvector):\n",
        "\tprobabilities = calculateclassprobabilities(summaries, inputvector)\n",
        "\tbestLabel, bestProb = None, -1\n",
        "\tfor classvalue, probability in probabilities.items():\n",
        "\t\tif bestLabel is None or probability > bestProb:\n",
        "\t\t\tbestProb = probability\n",
        "\t\t\tbestLabel = classvalue\n",
        "\treturn bestLabel\n",
        "\n",
        "def getpredictions(summaries, testset):\n",
        "\tpredictions = []\n",
        "\tfor i in range(len(testset)):\n",
        "\t\tresult = predict(summaries, testset[i])\n",
        "\t\tpredictions.append(result)\n",
        "\treturn predictions\n",
        "\n",
        "def getaccuracy(testset, predictions):\n",
        "\tcorrect = 0\n",
        "\tfor i in range(len(testset)):\n",
        "\t\tif testset[i][-1] == predictions[i]:\n",
        "\t\t\tcorrect += 1\n",
        "\treturn (correct/float(len(testset))) * 100.0\n",
        "\n",
        "def main():\n",
        "\tfilename = '/content/naivedata.csv'\n",
        "\tsplitratio = 0.67\n",
        "\tdataset = loadcsv(filename);\n",
        "\ttrainingset, testset = splitdataset(dataset, splitratio)\n",
        "\tprint('Split {0} rows into train={1} and test={2} rows'.format(len(dataset), len(trainingset), len(testset)))\n",
        "\tsummaries = summarizebyclass(trainingset);\n",
        "\tpredictions = getpredictions(summaries, testset)\n",
        "\taccuracy = getaccuracy(testset, predictions)\n",
        "\tprint('Accuracy of the classifier is : {0}%'.format(accuracy))\n",
        "\n",
        "main()"
      ],
      "metadata": {
        "id": "5xPXf9siY8DI",
        "outputId": "686bc231-68e4-4ea3-a923-21f255d3a903",
        "colab": {
          "base_uri": "https://localhost:8080/"
        }
      },
      "execution_count": null,
      "outputs": [
        {
          "output_type": "stream",
          "name": "stdout",
          "text": [
            "Split 768 rows into train=514 and test=254 rows\n",
            "Accuracy of the classifier is : 75.98425196850394%\n"
          ]
        }
      ]
    },
    {
      "cell_type": "markdown",
      "source": [
        "k neighbour"
      ],
      "metadata": {
        "id": "gETNAyMcdOav"
      }
    },
    {
      "cell_type": "code",
      "source": [
        "import matplotlib.pyplot as plt\n",
        "from sklearn import datasets\n",
        "from sklearn.cluster import KMeans\n",
        "import sklearn.metrics as sm\n",
        "import pandas as pd\n",
        "import numpy as np\n",
        "iris = datasets.load_iris()\n",
        "X = pd.DataFrame(iris.data)\n",
        "X.columns = ['Sepal_Length','Sepal_Width','Petal_Length','Petal_Width']\n",
        "y = pd.DataFrame(iris.target)\n",
        "y.columns = ['Targets']\n",
        "model = KMeans(n_clusters=3)\n",
        "model.fit(X)\n",
        "plt.figure(figsize=(14,7))\n",
        "colormap = np.array(['red', 'lime', 'black'])\n",
        "plt.subplot(1, 2, 1)\n",
        "plt.scatter(X.Petal_Length, X.Petal_Width, c=colormap[y.Targets], s=40)\n",
        "plt.title('Real Classification')\n",
        "plt.xlabel('Petal Length')\n",
        "plt.ylabel('Petal Width')\n",
        "plt.subplot(1, 2, 2)\n",
        "plt.scatter(X.Petal_Length, X.Petal_Width, c=colormap[model.labels_], s=40)\n",
        "plt.title('K Mean Classification')\n",
        "plt.xlabel('Petal Length')\n",
        "plt.ylabel('Petal Width')\n",
        "print('The accuracy score of K-Mean: ',sm.accuracy_score(y, model.labels_))\n",
        "print('The Confusion matrixof K-Mean: ',sm.confusion_matrix(y, model.labels_))"
      ],
      "metadata": {
        "colab": {
          "base_uri": "https://localhost:8080/",
          "height": 765
        },
        "id": "JeT3DaOIZYvx",
        "outputId": "ff66cd29-4fd1-4f98-e7f8-a302b4878368"
      },
      "execution_count": null,
      "outputs": [
        {
          "output_type": "stream",
          "name": "stderr",
          "text": [
            "/usr/local/lib/python3.9/dist-packages/sklearn/cluster/_kmeans.py:870: FutureWarning: The default value of `n_init` will change from 10 to 'auto' in 1.4. Set the value of `n_init` explicitly to suppress the warning\n",
            "  warnings.warn(\n"
          ]
        },
        {
          "output_type": "stream",
          "name": "stdout",
          "text": [
            "The accuracy score of K-Mean:  0.24\n",
            "The Confusion matrixof K-Mean:  [[ 0 50  0]\n",
            " [48  0  2]\n",
            " [14  0 36]]\n"
          ]
        },
        {
          "output_type": "display_data",
          "data": {
            "text/plain": [
              "<Figure size 1400x700 with 2 Axes>"
            ],
            "image/png": "[encoded data removed]"
          },
          "metadata": {}
        }
      ]
    },
    {
      "cell_type": "code",
      "source": [],
      "metadata": {
        "id": "RVISbG0XhRkA"
      },
      "execution_count": null,
      "outputs": []
    },
    {
      "cell_type": "markdown",
      "source": [],
      "metadata": {
        "id": "93b4T298Z8mR"
      }
    },
    {
      "cell_type": "code",
      "source": [
        "from sklearn import preprocessing\n",
        "from sklearn.mixture import GaussianMixture\n",
        "\n",
        "scaler = preprocessing.StandardScaler()\n",
        "scaler.fit(X)\n",
        "xsa = scaler.transform(X)\n",
        "xs = pd.DataFrame(xsa, columns = X.columns)\n",
        "gmm = GaussianMixture(n_components=3)\n",
        "gmm.fit(xs)\n",
        "y_gmm = gmm.predict(xs)\n",
        "plt.subplot(2, 2, 3)\n",
        "plt.scatter(X.Petal_Length, X.Petal_Width, c=colormap[y_gmm], s=40)\n",
        "plt.title('GMM Classification')\n",
        "plt.xlabel('Petal Length')\n",
        "plt.ylabel('Petal Width')\n",
        "print('The accuracy score of EM: ',sm.accuracy_score(y, y_gmm))\n",
        "print('The Confusion matrix of EM: ',sm.confusion_matrix(y, y_gmm))"
      ],
      "metadata": {
        "colab": {
          "base_uri": "https://localhost:8080/",
          "height": 339
        },
        "id": "pZyC7cp9Z9Uo",
        "outputId": "89b6cda5-a14b-4da3-daff-ce52c437c832"
      },
      "execution_count": null,
      "outputs": [
        {
          "output_type": "stream",
          "name": "stdout",
          "text": [
            "The accuracy score of EM:  0.0\n",
            "The Confusion matrix of EM:  [[ 0 50  0]\n",
            " [ 5  0 45]\n",
            " [50  0  0]]\n"
          ]
        },
        {
          "output_type": "display_data",
          "data": {
            "text/plain": [
              "<Figure size 640x480 with 1 Axes>"
            ],
            "image/png": "[encoded data removed]"
          },
          "metadata": {}
        }
      ]
    },
    {
      "cell_type": "markdown",
      "source": [
        "k MEANS\n"
      ],
      "metadata": {
        "id": "zmJGVcCWakIw"
      }
    },
    {
      "cell_type": "code",
      "execution_count": null,
      "metadata": {
        "id": "aKK1sAzofZQv",
        "colab": {
          "base_uri": "https://localhost:8080/"
        },
        "outputId": "4d0ef20d-8537-463e-d828-50cbd89ef4da"
      },
      "outputs": [
        {
          "output_type": "stream",
          "name": "stdout",
          "text": [
            "sepal-length sepal-width petal-length petal-width\n",
            "[[5.1 3.5 1.4 0.2]\n",
            " [4.9 3.  1.4 0.2]\n",
            " [4.7 3.2 1.3 0.2]\n",
            " [4.6 3.1 1.5 0.2]\n",
            " [5.  3.6 1.4 0.2]\n",
            " [5.4 3.9 1.7 0.4]\n",
            " [4.6 3.4 1.4 0.3]\n",
            " [5.  3.4 1.5 0.2]\n",
            " [4.4 2.9 1.4 0.2]\n",
            " [4.9 3.1 1.5 0.1]\n",
            " [5.4 3.7 1.5 0.2]\n",
            " [4.8 3.4 1.6 0.2]\n",
            " [4.8 3.  1.4 0.1]\n",
            " [4.3 3.  1.1 0.1]\n",
            " [5.8 4.  1.2 0.2]\n",
            " [5.7 4.4 1.5 0.4]\n",
            " [5.4 3.9 1.3 0.4]\n",
            " [5.1 3.5 1.4 0.3]\n",
            " [5.7 3.8 1.7 0.3]\n",
            " [5.1 3.8 1.5 0.3]\n",
            " [5.4 3.4 1.7 0.2]\n",
            " [5.1 3.7 1.5 0.4]\n",
            " [4.6 3.6 1.  0.2]\n",
            " [5.1 3.3 1.7 0.5]\n",
            " [4.8 3.4 1.9 0.2]\n",
            " [5.  3.  1.6 0.2]\n",
            " [5.  3.4 1.6 0.4]\n",
            " [5.2 3.5 1.5 0.2]\n",
            " [5.2 3.4 1.4 0.2]\n",
            " [4.7 3.2 1.6 0.2]\n",
            " [4.8 3.1 1.6 0.2]\n",
            " [5.4 3.4 1.5 0.4]\n",
            " [5.2 4.1 1.5 0.1]\n",
            " [5.5 4.2 1.4 0.2]\n",
            " [4.9 3.1 1.5 0.2]\n",
            " [5.  3.2 1.2 0.2]\n",
            " [5.5 3.5 1.3 0.2]\n",
            " [4.9 3.6 1.4 0.1]\n",
            " [4.4 3.  1.3 0.2]\n",
            " [5.1 3.4 1.5 0.2]\n",
            " [5.  3.5 1.3 0.3]\n",
            " [4.5 2.3 1.3 0.3]\n",
            " [4.4 3.2 1.3 0.2]\n",
            " [5.  3.5 1.6 0.6]\n",
            " [5.1 3.8 1.9 0.4]\n",
            " [4.8 3.  1.4 0.3]\n",
            " [5.1 3.8 1.6 0.2]\n",
            " [4.6 3.2 1.4 0.2]\n",
            " [5.3 3.7 1.5 0.2]\n",
            " [5.  3.3 1.4 0.2]\n",
            " [7.  3.2 4.7 1.4]\n",
            " [6.4 3.2 4.5 1.5]\n",
            " [6.9 3.1 4.9 1.5]\n",
            " [5.5 2.3 4.  1.3]\n",
            " [6.5 2.8 4.6 1.5]\n",
            " [5.7 2.8 4.5 1.3]\n",
            " [6.3 3.3 4.7 1.6]\n",
            " [4.9 2.4 3.3 1. ]\n",
            " [6.6 2.9 4.6 1.3]\n",
            " [5.2 2.7 3.9 1.4]\n",
            " [5.  2.  3.5 1. ]\n",
            " [5.9 3.  4.2 1.5]\n",
            " [6.  2.2 4.  1. ]\n",
            " [6.1 2.9 4.7 1.4]\n",
            " [5.6 2.9 3.6 1.3]\n",
            " [6.7 3.1 4.4 1.4]\n",
            " [5.6 3.  4.5 1.5]\n",
            " [5.8 2.7 4.1 1. ]\n",
            " [6.2 2.2 4.5 1.5]\n",
            " [5.6 2.5 3.9 1.1]\n",
            " [5.9 3.2 4.8 1.8]\n",
            " [6.1 2.8 4.  1.3]\n",
            " [6.3 2.5 4.9 1.5]\n",
            " [6.1 2.8 4.7 1.2]\n",
            " [6.4 2.9 4.3 1.3]\n",
            " [6.6 3.  4.4 1.4]\n",
            " [6.8 2.8 4.8 1.4]\n",
            " [6.7 3.  5.  1.7]\n",
            " [6.  2.9 4.5 1.5]\n",
            " [5.7 2.6 3.5 1. ]\n",
            " [5.5 2.4 3.8 1.1]\n",
            " [5.5 2.4 3.7 1. ]\n",
            " [5.8 2.7 3.9 1.2]\n",
            " [6.  2.7 5.1 1.6]\n",
            " [5.4 3.  4.5 1.5]\n",
            " [6.  3.4 4.5 1.6]\n",
            " [6.7 3.1 4.7 1.5]\n",
            " [6.3 2.3 4.4 1.3]\n",
            " [5.6 3.  4.1 1.3]\n",
            " [5.5 2.5 4.  1.3]\n",
            " [5.5 2.6 4.4 1.2]\n",
            " [6.1 3.  4.6 1.4]\n",
            " [5.8 2.6 4.  1.2]\n",
            " [5.  2.3 3.3 1. ]\n",
            " [5.6 2.7 4.2 1.3]\n",
            " [5.7 3.  4.2 1.2]\n",
            " [5.7 2.9 4.2 1.3]\n",
            " [6.2 2.9 4.3 1.3]\n",
            " [5.1 2.5 3.  1.1]\n",
            " [5.7 2.8 4.1 1.3]\n",
            " [6.3 3.3 6.  2.5]\n",
            " [5.8 2.7 5.1 1.9]\n",
            " [7.1 3.  5.9 2.1]\n",
            " [6.3 2.9 5.6 1.8]\n",
            " [6.5 3.  5.8 2.2]\n",
            " [7.6 3.  6.6 2.1]\n",
            " [4.9 2.5 4.5 1.7]\n",
            " [7.3 2.9 6.3 1.8]\n",
            " [6.7 2.5 5.8 1.8]\n",
            " [7.2 3.6 6.1 2.5]\n",
            " [6.5 3.2 5.1 2. ]\n",
            " [6.4 2.7 5.3 1.9]\n",
            " [6.8 3.  5.5 2.1]\n",
            " [5.7 2.5 5.  2. ]\n",
            " [5.8 2.8 5.1 2.4]\n",
            " [6.4 3.2 5.3 2.3]\n",
            " [6.5 3.  5.5 1.8]\n",
            " [7.7 3.8 6.7 2.2]\n",
            " [7.7 2.6 6.9 2.3]\n",
            " [6.  2.2 5.  1.5]\n",
            " [6.9 3.2 5.7 2.3]\n",
            " [5.6 2.8 4.9 2. ]\n",
            " [7.7 2.8 6.7 2. ]\n",
            " [6.3 2.7 4.9 1.8]\n",
            " [6.7 3.3 5.7 2.1]\n",
            " [7.2 3.2 6.  1.8]\n",
            " [6.2 2.8 4.8 1.8]\n",
            " [6.1 3.  4.9 1.8]\n",
            " [6.4 2.8 5.6 2.1]\n",
            " [7.2 3.  5.8 1.6]\n",
            " [7.4 2.8 6.1 1.9]\n",
            " [7.9 3.8 6.4 2. ]\n",
            " [6.4 2.8 5.6 2.2]\n",
            " [6.3 2.8 5.1 1.5]\n",
            " [6.1 2.6 5.6 1.4]\n",
            " [7.7 3.  6.1 2.3]\n",
            " [6.3 3.4 5.6 2.4]\n",
            " [6.4 3.1 5.5 1.8]\n",
            " [6.  3.  4.8 1.8]\n",
            " [6.9 3.1 5.4 2.1]\n",
            " [6.7 3.1 5.6 2.4]\n",
            " [6.9 3.1 5.1 2.3]\n",
            " [5.8 2.7 5.1 1.9]\n",
            " [6.8 3.2 5.9 2.3]\n",
            " [6.7 3.3 5.7 2.5]\n",
            " [6.7 3.  5.2 2.3]\n",
            " [6.3 2.5 5.  1.9]\n",
            " [6.5 3.  5.2 2. ]\n",
            " [6.2 3.4 5.4 2.3]\n",
            " [5.9 3.  5.1 1.8]]\n",
            "class: 0-Iris-Setosa, 1- Iris-Versicolour, 2- Iris-Virginica\n",
            "[0 0 0 0 0 0 0 0 0 0 0 0 0 0 0 0 0 0 0 0 0 0 0 0 0 0 0 0 0 0 0 0 0 0 0 0 0\n",
            " 0 0 0 0 0 0 0 0 0 0 0 0 0 1 1 1 1 1 1 1 1 1 1 1 1 1 1 1 1 1 1 1 1 1 1 1 1\n",
            " 1 1 1 1 1 1 1 1 1 1 1 1 1 1 1 1 1 1 1 1 1 1 1 1 1 1 2 2 2 2 2 2 2 2 2 2 2\n",
            " 2 2 2 2 2 2 2 2 2 2 2 2 2 2 2 2 2 2 2 2 2 2 2 2 2 2 2 2 2 2 2 2 2 2 2 2 2\n",
            " 2 2]\n",
            "Confusion Matrix\n",
            "[[14  0  0]\n",
            " [ 0 14  1]\n",
            " [ 0  1 15]]\n",
            "Accuracy Metrics\n",
            "              precision    recall  f1-score   support\n",
            "\n",
            "           0       1.00      1.00      1.00        14\n",
            "           1       0.93      0.93      0.93        15\n",
            "           2       0.94      0.94      0.94        16\n",
            "\n",
            "    accuracy                           0.96        45\n",
            "   macro avg       0.96      0.96      0.96        45\n",
            "weighted avg       0.96      0.96      0.96        45\n",
            "\n"
          ]
        }
      ],
      "source": [
        "from sklearn.model_selection import train_test_split\n",
        "from sklearn.neighbors import KNeighborsClassifier\n",
        "from sklearn.metrics import classification_report, confusion_matrix\n",
        "from sklearn import datasets\n",
        "\n",
        "iris=datasets.load_iris()\n",
        "x = iris.data\n",
        "y = iris.target\n",
        "print ('sepal-length', 'sepal-width', 'petal-length', 'petal-width')\n",
        "print(x)\n",
        "print('class: 0-Iris-Setosa, 1- Iris-Versicolour, 2- Iris-Virginica')\n",
        "print(y)\n",
        "x_train, x_test, y_train, y_test =train_test_split(x,y,test_size=0.3)\n",
        "classifier = KNeighborsClassifier(n_neighbors=5)\n",
        "classifier.fit(x_train, y_train)\n",
        "y_pred=classifier.predict(x_test)\n",
        "print('Confusion Matrix')\n",
        "print(confusion_matrix(y_test,y_pred))\n",
        "print('Accuracy Metrics')\n",
        "print(classification_report(y_test,y_pred))"
      ]
    },
    {
      "cell_type": "markdown",
      "source": [
        "Locally Weighted Regression Algorithm"
      ],
      "metadata": {
        "id": "K9mS8jU_dY0_"
      }
    },
    {
      "cell_type": "code",
      "source": [
        "import numpy as np\n",
        "from bokeh.plotting import figure, show, output_notebook\n",
        "from bokeh.layouts import gridplot\n",
        "from bokeh.io import push_notebook\n",
        "def local_regression(x0, X, Y, tau):\n",
        "  x0 = np.r_[1, x0]\n",
        "  X = np.c_[np.ones(len(X)), X]\n",
        "  xw = X.T * radial_kernel(x0, X, tau)\n",
        "  beta = np.linalg.pinv(xw @ X) @ xw @ Y\n",
        "  return x0 @ beta\n",
        "\n",
        "def radial_kernel(x0, X, tau):\n",
        "  return np.exp(np.sum((X - x0) ** 2, axis=1) / (-2 * tau * tau))\n",
        "\n",
        "n = 1000\n",
        "X = np.linspace(-3, 3, num=n)\n",
        "print(\"The Data Set ( 10 Samples) X :\\n\",X[1:10])\n",
        "Y = np.log(np.abs(X ** 2 - 1) + .5)\n",
        "print(\"The Fitting Curve Data Set (10 Samples) Y :\\n\",Y[1:10])\n",
        "\n",
        "X += np.random.normal(scale=.1, size=n)\n",
        "print(\"Normalised (10 Samples) X :\\n\",X[1:10])\n",
        "domain = np.linspace(-3, 3, num=300)\n",
        "print(\" Xo Domain Space(10 Samples) :\\n\",domain[1:10])\n",
        "\n",
        "def plot_lwr(tau):\n",
        "  prediction = [local_regression(x0, X, Y, tau) for x0 in domain]\n",
        "  plot = figure(plot_width=400, plot_height=400)\n",
        "  plot.title.text='tau=%g' % tau\n",
        "  plot.scatter(X, Y, alpha=.3)\n",
        "  plot.line(domain, prediction, line_width=2, color='red')\n",
        "  return plot\n",
        "\n",
        "show(gridplot([[plot_lwr(10.), plot_lwr(1.)],[plot_lwr(0.1), plot_lwr(0.01)]]))"
      ],
      "metadata": {
        "colab": {
          "base_uri": "https://localhost:8080/"
        },
        "id": "jsHz7plZbOVn",
        "outputId": "d89bb990-f7e4-4a16-caae-a8ffef1e0cbd"
      },
      "execution_count": null,
      "outputs": [
        {
          "output_type": "stream",
          "name": "stdout",
          "text": [
            "The Data Set ( 10 Samples) X :\n",
            " [-2.99399399 -2.98798799 -2.98198198 -2.97597598 -2.96996997 -2.96396396\n",
            " -2.95795796 -2.95195195 -2.94594595]\n",
            "The Fitting Curve Data Set (10 Samples) Y :\n",
            " [2.13582188 2.13156806 2.12730467 2.12303166 2.11874898 2.11445659\n",
            " 2.11015444 2.10584249 2.10152068]\n",
            "Normalised (10 Samples) X :\n",
            " [-3.15382519 -3.02738713 -3.24955962 -2.96635743 -2.88347105 -2.75446783\n",
            " -3.05865318 -2.84206595 -2.91494193]\n",
            " Xo Domain Space(10 Samples) :\n",
            " [-2.97993311 -2.95986622 -2.93979933 -2.91973244 -2.89966555 -2.87959866\n",
            " -2.85953177 -2.83946488 -2.81939799]\n"
          ]
        }
      ]
    }
  ]
}