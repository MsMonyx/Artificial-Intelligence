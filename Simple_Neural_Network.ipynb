{
  "nbformat": 4,
  "nbformat_minor": 0,
  "metadata": {
    "colab": {
      "provenance": []
    },
    "kernelspec": {
      "name": "python3",
      "display_name": "Python 3"
    },
    "language_info": {
      "name": "python"
    }
  },
  "cells": [
    {
      "cell_type": "code",
      "execution_count": 3,
      "metadata": {
        "colab": {
          "base_uri": "https://localhost:8080/"
        },
        "id": "ZE4w5ZbAM76M",
        "outputId": "2add1e3d-0551-48b7-bfa1-132790ff7489"
      },
      "outputs": [
        {
          "output_type": "stream",
          "name": "stdout",
          "text": [
            "Input:\n",
            " [[0.66666667 1.        ]\n",
            " [0.33333333 0.55555556]\n",
            " [1.         0.66666667]]\n",
            "Actual Output:\n",
            " [[0.92]\n",
            " [0.86]\n",
            " [0.89]]\n",
            "Predicted Output:\n",
            " [[0.89660381]\n",
            " [0.87802393]\n",
            " [0.89559891]]\n"
          ]
        }
      ],
      "source": [
        "import numpy as np\n",
        "\n",
        "# Define sigmoid and its derivative functions\n",
        "def sigmoid(x):\n",
        "    return 1 / (1 + np.exp(-x))\n",
        "\n",
        "def derivatives_sigmoid(x):\n",
        "    return x * (1 - x)\n",
        "\n",
        "# Input data\n",
        "X = np.array(([2, 9], [1, 5], [3, 6]), dtype=float)\n",
        "y = np.array(([92], [86], [89]), dtype=float)\n",
        "\n",
        "# Normalize input and output\n",
        "X = X / np.amax(X, axis=0)\n",
        "y = y / 100\n",
        "\n",
        "# Neural network parameters\n",
        "input_layer_neurons = 2\n",
        "hidden_layer_neurons = 3\n",
        "output_neurons = 1\n",
        "\n",
        "# Initialize weights and biases with smaller random values\n",
        "np.random.seed(42)  # for reproducibility\n",
        "wh = np.random.uniform(size=(input_layer_neurons, hidden_layer_neurons)) * 0.1\n",
        "bh = np.random.uniform(size=(1, hidden_layer_neurons)) * 0.1\n",
        "wout = np.random.uniform(size=(hidden_layer_neurons, output_neurons)) * 0.1\n",
        "bout = np.random.uniform(size=(1, output_neurons)) * 0.1\n",
        "\n",
        "# Training parameters\n",
        "epoch = 5000\n",
        "lr = 0.1\n",
        "\n",
        "# Training the neural network\n",
        "for i in range(epoch):\n",
        "    # Forward pass\n",
        "    hinp = np.dot(X, wh) + bh\n",
        "    hlayer_act = sigmoid(hinp)\n",
        "    outinp = np.dot(hlayer_act, wout) + bout\n",
        "    output = sigmoid(outinp)\n",
        "\n",
        "    # Backpropagation\n",
        "    EO = y - output\n",
        "    d_output = EO * derivatives_sigmoid(output)\n",
        "    EH = d_output.dot(wout.T)\n",
        "    d_hiddenlayer = EH * derivatives_sigmoid(hlayer_act)\n",
        "\n",
        "    # Update weights and biases\n",
        "    wout += hlayer_act.T.dot(d_output) * lr\n",
        "    wh += X.T.dot(d_hiddenlayer) * lr\n",
        "\n",
        "# Print results\n",
        "print(\"Input:\\n\", X)\n",
        "print(\"Actual Output:\\n\", y)\n",
        "print(\"Predicted Output:\\n\", output)\n"
      ]
    }
  ]
}