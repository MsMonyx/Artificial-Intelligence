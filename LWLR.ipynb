{
  "nbformat": 4,
  "nbformat_minor": 0,
  "metadata": {
    "colab": {
      "provenance": []
    },
    "kernelspec": {
      "name": "python3",
      "display_name": "Python 3"
    },
    "language_info": {
      "name": "python"
    }
  },
  "cells": [
    {
      "cell_type": "code",
      "source": [
        "\n",
        "def radial_kernel(x0, X, tau):\n",
        "  return np.exp(np.sum((X - x0) ** 2, axis=1) / (-2 * tau * tau))\n",
        "n = 1000\n",
        "# generate dataset\n",
        "X = np.linspace(-3, 3, num=n)\n",
        "print(\"The Data Set ( 10 Samples) X :\\n\",X[1:10])\n",
        "Y = np.log(np.abs(X ** 2 - 1) + .5)\n",
        "print(\"The Fitting Curve Data Set (10 Samples) Y:\\n\",Y[1:10])\n",
        "# jitter X\n",
        "X += np.random.normal(scale=.1, size=n)\n",
        "print(\"Normalised (10 Samples) X :\\n\",X[1:10])\n",
        "domain = np.linspace(-3, 3, num=300)\n",
        "print(\" Xo Domain Space(10 Samples) :\\n\",domain[1:10])\n",
        "def plot_lwr(tau):\n",
        "  prediction = [local_regression(x0, X, Y, tau) for x0 in domain]\n",
        "  plot = figure(plot_width=400, plot_height=400)\n",
        "  plot.title.text='tau=%g' % tau\n",
        "  plot.scatter(X, Y, alpha=.3)\n",
        "  plot.line(domain, prediction, line_width=2, color='red')\n",
        "  return plot\n",
        "  show(gridplot([[plot_lwr(10.), plot_lwr(1.)],[plot_lwr(0.1), plot_lwr(0.01)]]))"
      ],
      "metadata": {
        "colab": {
          "base_uri": "https://localhost:8080/"
        },
        "id": "ppWhRy13WGUL",
        "outputId": "0886cfda-d2ea-4c1d-9c66-056182613697"
      },
      "execution_count": null,
      "outputs": [
        {
          "output_type": "stream",
          "name": "stdout",
          "text": [
            "The Data Set ( 10 Samples) X :\n",
            " [-2.99399399 -2.98798799 -2.98198198 -2.97597598 -2.96996997 -2.96396396\n",
            " -2.95795796 -2.95195195 -2.94594595]\n",
            "The Fitting Curve Data Set (10 Samples) Y:\n",
            " [2.13582188 2.13156806 2.12730467 2.12303166 2.11874898 2.11445659\n",
            " 2.11015444 2.10584249 2.10152068]\n",
            "Normalised (10 Samples) X :\n",
            " [-2.98020482 -3.07482889 -3.12044305 -2.83620282 -2.92147709 -3.02103388\n",
            " -2.88166166 -2.85152624 -2.87870908]\n",
            " Xo Domain Space(10 Samples) :\n",
            " [-2.97993311 -2.95986622 -2.93979933 -2.91973244 -2.89966555 -2.87959866\n",
            " -2.85953177 -2.83946488 -2.81939799]\n"
          ]
        }
      ]
    },
    {
      "cell_type": "code",
      "source": [
        "from numpy import *\n",
        "from os import listdir\n",
        "import matplotlib\n",
        "import matplotlib.pyplot as plt\n",
        "import pandas as pd\n",
        "import numpy as np1\n",
        "import numpy.linalg as np\n",
        "from scipy.stats.stats import pearsonr\n",
        "\n",
        "def kernel(point,xmat, k):\n",
        "  m,n = np1.shape(xmat)\n",
        "  weights = np1.mat(np1.eye((m)))\n",
        "  for j in range(m):\n",
        "    diff = point - X[j]\n",
        "  weights[j,j] = np1.exp(diff*diff.T/(-2.0*k**2))\n",
        "  return weights\n",
        "\n",
        "def localWeight(point,xmat,ymat,k):\n",
        "  wei = kernel(point,xmat,k)\n",
        "  W = (X.T*(wei*X)).I*(X.T*(wei*ymat.T))\n",
        "  return W\n",
        "\n",
        "def localWeightRegression(xmat,ymat,k):\n",
        "  m,n = np1.shape(xmat)\n",
        "  ypred = np1.zeros(m)\n",
        "  for i in range(m):\n",
        "    ypred[i] = xmat[i]*localWeight(xmat[i],xmat,ymat,k)\n",
        "    return ypred"
      ],
      "metadata": {
        "colab": {
          "base_uri": "https://localhost:8080/"
        },
        "id": "qTaUok3EXiWq",
        "outputId": "d1cd7e0a-1117-4ecb-ab68-7fd4f9433004"
      },
      "execution_count": null,
      "outputs": [
        {
          "output_type": "stream",
          "name": "stderr",
          "text": [
            "<ipython-input-6-fd5ce0201239>:8: DeprecationWarning: Please use `pearsonr` from the `scipy.stats` namespace, the `scipy.stats.stats` namespace is deprecated.\n",
            "  from scipy.stats.stats import pearsonr\n"
          ]
        }
      ]
    },
    {
      "cell_type": "code",
      "source": [
        "data = pd.read_csv('/content/tips (2).csv')\n",
        "bill = np1.array(data.total_bill)\n",
        "tip = np1.array(data.tip)\n",
        "\n",
        "mbill = np1.mat(bill)\n",
        "mtip = np1.mat(tip)\n",
        "m= np1.shape(mbill)[1]\n",
        "\n",
        "one = np1.mat(np1.ones(m))\n",
        "X= np1.hstack((one.T,mbill.T))\n",
        "\n",
        "ypred = localWeightRegression(X,mtip,0.3)\n",
        "SortIndex = X[:,1].argsort(0)\n",
        "xsort = X[SortIndex][:,0]\n",
        "\n",
        "fig = plt.figure()\n",
        "ax = fig.add_subplot(1,1,1)\n",
        "ax.scatter(bill,tip, color='green')\n",
        "ax.plot(xsort[:,1],ypred[SortIndex], color = 'red', linewidth=5)\n",
        "plt.xlabel('Total bill')\n",
        "plt.ylabel('Tip')\n",
        "plt.show();"
      ],
      "metadata": {
        "colab": {
          "base_uri": "https://localhost:8080/",
          "height": 449
        },
        "id": "gw7X_HzbYBQj",
        "outputId": "57cf01cf-6e6f-49ee-d1f6-a7039abe47d6"
      },
      "execution_count": null,
      "outputs": [
        {
          "output_type": "display_data",
          "data": {
            "text/plain": [
              "<Figure size 640x480 with 1 Axes>"
            ],
            "image/png": "[encoded data removed]"
          },
          "metadata": {}
        }
      ]
    }
  ]
}